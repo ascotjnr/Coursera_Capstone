{
    "cells": [
        {
            "cell_type": "markdown",
            "metadata": {
                "collapsed": true
            },
            "source": "<img src=https://www.vippng.com/png/detail/97-979598_ibm-watson-logo-transparent-ibm-watson.png>"
        },
        {
            "cell_type": "markdown",
            "metadata": {},
            "source": "# *Capstone Project - The Battle of the Neighborhoods*\n\n## Applied Data Science Capstone by IBM/Coursera\n\nTable of contents\nIntroduction: Business Problem\nData\nMethodology\nAnalysis\nResults and Discussion\nConclusion\n\n## Introduction: Business Problem \n\nThis project aims to select the safest borough in London based on the total crimes, explore the neighborhoods of that borough to find the 10 most common venues in each neighborhood and finally cluster the neighborhoods using k-mean clustering.\n\nThis report will be targeted to people who are looking to relocate to London. Inorder to finalise a neighborhood to hunt for an apartment, safety is considered as a top concern when moving to a new place. If you don\u2019t feel safe in your own home, you\u2019re not going to be able to enjoy living there. The crime statistics will provide an insight into this issue.\n\nWe will focus on the safest borough and explore its neighborhoods and the 10 most common venues in each neighborhood so that the best neighborhood suited to an individual's needs can be selected.\n\n## Data\nBased on definition of our problem, factors that will influence our decision are:\n\n- The total number of crimes commited in each of the borough during the last year.\n- The most common venues in each of the neighborhood in the safest borough selected.\n\n### London Crime Data\n#### About this file\nThe data frame will contain the below parameters for this project:\n\n1. lsoa_code: code for Lower Super Output Area in Greater London.\n2. Borough: Common name for London borough.\n3. Major_category: High level categorization of crime\n4. Minor_category: Low level categorization of crime within major category.\n5. Value: monthly reported count of categorical crime in given borough\n6. Year: Year of reported counts, 2008-2016\n7. Month: Month of reported counts, 1-12\n\n## Methodology\n- Part 1: Preprocessing a real world data set from Kaggle showing the London Crimes from 2008 to 2016: A dataset consisting of the crime statistics of each borough in London obtained from Kaggle\n- Part 2: Scraping additional information of the different Boroughs in London from a Wikipedia page.: More information regarding the boroughs of London is scraped using the Beautifulsoup library\n- Part 3: Creating a new dataset of the Neighborhoods of the safest borough in London and generating their co-ordinates.: Co-ordinate of neighborhood will be obtained using Google Maps API geocoding\n\n## Aim \nThe aim of this project is to help people who want to relocate to the safest borough in London, expats can chose the neighborhoods to which they want to relocate based on the most common venues in it. For example if a person is looking for a neighborhood with good connectivity and public transportation we can see that Clusters 3 and 4 have Train stations and Bus stops as the most common venues. If a person is looking for a neighborhood with stores and restaurants in a close proximity then the neighborhoods in the first cluster is suitable. For a family I feel that the neighborhoods in Cluster 4 are more suitable dues to the common venues in that cluster, these neighborhoods have common venues such as Parks, Gym/Fitness centers, Bus Stops, Restaurants, Electronics Stores and Soccer fields which is ideal for a family."
        }
    ],
    "metadata": {
        "kernelspec": {
            "display_name": "Python 3.6",
            "language": "python",
            "name": "python3"
        },
        "language_info": {
            "codemirror_mode": {
                "name": "ipython",
                "version": 3
            },
            "file_extension": ".py",
            "mimetype": "text/x-python",
            "name": "python",
            "nbconvert_exporter": "python",
            "pygments_lexer": "ipython3",
            "version": "3.6.9"
        }
    },
    "nbformat": 4,
    "nbformat_minor": 1
}