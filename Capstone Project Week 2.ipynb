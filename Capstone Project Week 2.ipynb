{
    "cells": [
        {
            "cell_type": "markdown",
            "metadata": {
                "collapsed": true
            },
            "source": "<img src=https://www.vippng.com/png/detail/97-979598_ibm-watson-logo-transparent-ibm-watson.png>"
        },
        {
            "cell_type": "markdown",
            "metadata": {},
            "source": "# *Capstone Project - Predicting severity of car crashes*\n\n## Applied Data Science Capstone by IBM/Coursera\n\nTable of contents\nIntroduction: Business Problem\nData\nMethodology\nAnalysis\nResults and Discussion\nConclusion\n\n## Introduction: Business Problem \n\nThis project aims to predict the severity of road accidents that will help commuters to decide in choosing an alternate route.\n\nMore than 38,000 people die every year in crashes on U.S. roadways. The U.S. traffic fatality rate is 12.4 deaths per 100,000 inhabitants. An additional 4.4 million are injured seriously enough to require medical attention. Road crashes are the leading cause of death in the U.S. for people aged 1-54. A number of factors contribute to road crashes and resulting deaths and severity of injuries. These include:\n\n- Poor road infrastructure and management\n- Non-road worthy vehicles\n- Unenforced or non-existent traffic laws\n- Unsafe road user behaviors and\n- Inadequate post-crash care.\n\nBy understanding each of these factors and through planning, effective management and evidence-based interventions, road crashes can be predicted and prevented. Having access to accurate and updated information about the current road situation enables drivers, pedestrians and passengers to make informed road safety decisions.\n\nWith the death toll of road accidents going up, governments as well as major automobile corporations are majorly concerned. For road users, be it cars or any vehicle that plies the roads,  it is highly important to look at the safety of the vehicle from a data point of view and determine what factors contribute to road accidents. This project also assesses at the severity of accidents and build a model that predicts the severity of a road accident.\n\n## Data\n\nThe data from coursera is used for this project. This data comes with a lot of different attributes but is notably missing the alcohol amount in the drivers blood. There is a metadata file that has a description of each column attached to the data. Data preprocessing technique involving removal of columns and missing data will be applied to only keep relvant feratures.\n\nThe target label is the severity code which labels the severity of the collision. The severity code in the data are:\n\n| --- | ---|\n| Accident Type | Severity code |\n| --- |---|\n| Property Damage | 1 |\n| --- |---|\n| Injury | 2 |\n\nThe data contains many useful features such as:\n\n- Severity code\n- Collision type \n- Number of serious injuries\n- Number of fatalities\n- Date of incident\n- Time of incident\n- Number of vehicles\n- Number of injuries\n- Location\n- Weather \n- Number of pedestrians\n- Number of cyclists\n- Road conditions \n- Light conditions"
        },
        {
            "cell_type": "code",
            "execution_count": null,
            "metadata": {},
            "outputs": [],
            "source": ""
        }
    ],
    "metadata": {
        "kernelspec": {
            "display_name": "Python 3.6",
            "language": "python",
            "name": "python3"
        },
        "language_info": {
            "codemirror_mode": {
                "name": "ipython",
                "version": 3
            },
            "file_extension": ".py",
            "mimetype": "text/x-python",
            "name": "python",
            "nbconvert_exporter": "python",
            "pygments_lexer": "ipython3",
            "version": "3.6.9"
        }
    },
    "nbformat": 4,
    "nbformat_minor": 1
}